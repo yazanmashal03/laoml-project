{
 "cells": [
  {
   "cell_type": "markdown",
   "id": "1f2f7e0d",
   "metadata": {},
   "source": [
    "This is the main notebook of the assignment"
   ]
  },
  {
   "cell_type": "markdown",
   "id": "ace98116",
   "metadata": {},
   "source": []
  }
 ],
 "metadata": {
  "language_info": {
   "name": "python"
  }
 },
 "nbformat": 4,
 "nbformat_minor": 5
}
